{
 "cells": [
  {
   "cell_type": "code",
   "execution_count": 21,
   "metadata": {},
   "outputs": [
    {
     "name": "stdout",
     "output_type": "stream",
     "text": [
      "The autoreload extension is already loaded. To reload it, use:\n",
      "  %reload_ext autoreload\n"
     ]
    }
   ],
   "source": [
    "%load_ext autoreload\n",
    "%autoreload 2\n",
    "%aimport utils"
   ]
  },
  {
   "cell_type": "code",
   "execution_count": 2,
   "metadata": {},
   "outputs": [
    {
     "data": {
      "text/plain": [
       "[['one', 'two'], ['three', 'four'], ['i', 'love', 'nlp']]"
      ]
     },
     "execution_count": 2,
     "metadata": {},
     "output_type": "execute_result"
    }
   ],
   "source": [
    "l1 = [['one', 'two'], ['three', 'four'], ['i', 'love', 'nlp']]\n",
    "pad_string = 'test'\n",
    "#l1[0].extend([pad_string]*6)\n",
    "l1"
   ]
  },
  {
   "cell_type": "code",
   "execution_count": 3,
   "metadata": {},
   "outputs": [],
   "source": [
    "def pad_sents(sents, pad_token):\n",
    "    \"\"\" Pad list of sentences according to the longest sentence in the batch.\n",
    "    @param sents (list[list[str]]): list of sentences, where each sentence\n",
    "                                    is represented as a list of words\n",
    "    @param pad_token (str): padding token\n",
    "    @returns sents_padded (list[list[str]]): list of sentences where sentences shorter\n",
    "        than the max length sentence are padded out with the pad_token, such that\n",
    "        each sentences in the batch now has equal length.\n",
    "    \"\"\"\n",
    "    sents_padded = []\n",
    "\n",
    "    ### YOUR CODE HERE (~6 Lines)\n",
    "    longest = max([len(sentence) for sentence in sents])\n",
    "    for idx, sentence in enumerate(sents):\n",
    "        add = longest - len(sentence)\n",
    "        sents_padded.append(list(sentence))\n",
    "        sents_padded[idx].extend([pad_token]*add)\n",
    "        \n",
    "    ### END YOUR CODE\n",
    "\n",
    "    return sents_padded"
   ]
  },
  {
   "cell_type": "code",
   "execution_count": 4,
   "metadata": {},
   "outputs": [
    {
     "data": {
      "text/plain": [
       "[['one', 'two', '<pad>'], ['three', 'four', '<pad>'], ['i', 'love', 'nlp']]"
      ]
     },
     "execution_count": 4,
     "metadata": {},
     "output_type": "execute_result"
    }
   ],
   "source": [
    "pad_sents(l1, '<pad>')"
   ]
  },
  {
   "cell_type": "code",
   "execution_count": 5,
   "metadata": {},
   "outputs": [
    {
     "data": {
      "text/plain": [
       "[['one', 'two'], ['three', 'four'], ['i', 'love', 'nlp']]"
      ]
     },
     "execution_count": 5,
     "metadata": {},
     "output_type": "execute_result"
    }
   ],
   "source": [
    "l1"
   ]
  },
  {
   "cell_type": "code",
   "execution_count": 6,
   "metadata": {},
   "outputs": [
    {
     "name": "stdout",
     "output_type": "stream",
     "text": [
      "Variable     Type        Data/Info\n",
      "----------------------------------\n",
      "l1           list        n=3\n",
      "pad_sents    function    <function pad_sents at 0x7fb71c58bd08>\n",
      "pad_string   str         test\n",
      "utils        module      <module 'utils' from '/ho<...>cs224n_2019/a4/utils.py'>\n"
     ]
    }
   ],
   "source": [
    "%whos"
   ]
  },
  {
   "cell_type": "code",
   "execution_count": 12,
   "metadata": {},
   "outputs": [
    {
     "name": "stdout",
     "output_type": "stream",
     "text": [
      "^C\r\n"
     ]
    }
   ],
   "source": [
    "!conda install docopt"
   ]
  },
  {
   "cell_type": "code",
   "execution_count": 61,
   "metadata": {},
   "outputs": [
    {
     "name": "stdout",
     "output_type": "stream",
     "text": [
      "Running Sanity Check for Question 1d: Encode\n",
      "--------------------------------------------------------------------------------\n",
      "Traceback (most recent call last):\n",
      "  File \"sanity_check.py\", line 235, in <module>\n",
      "    main()\n",
      "  File \"sanity_check.py\", line 224, in main\n",
      "    question_1d_sanity_check(model, src_sents, tgt_sents, vocab)\n",
      "  File \"sanity_check.py\", line 105, in question_1d_sanity_check\n",
      "    enc_hiddens_pred, dec_init_state_pred = model.encode(source_padded, source_lengths)\n",
      "  File \"/home/jupyter/cs224n_2019/a4/nmt_model.py\", line 185, in encode\n",
      "    enc_hiddens = enc_hiddens.permute(1,0,2)\n",
      "AttributeError: 'tuple' object has no attribute 'permute'\n"
     ]
    }
   ],
   "source": [
    "!python sanity_check.py 1d"
   ]
  },
  {
   "cell_type": "code",
   "execution_count": 2,
   "metadata": {},
   "outputs": [],
   "source": [
    "import torch\n",
    "from torch import nn"
   ]
  },
  {
   "cell_type": "code",
   "execution_count": 3,
   "metadata": {},
   "outputs": [
    {
     "name": "stdout",
     "output_type": "stream",
     "text": [
      "torch.Size([2, 4])\n"
     ]
    },
    {
     "data": {
      "text/plain": [
       "tensor([[[-0.5552,  1.6441, -0.0249],\n",
       "         [ 1.1960, -0.7706,  1.3190],\n",
       "         [-0.8076,  0.3844,  0.3498],\n",
       "         [ 0.7307,  1.0069, -2.6348]],\n",
       "\n",
       "        [[-0.8076,  0.3844,  0.3498],\n",
       "         [ 0.2159, -0.0346,  0.4370],\n",
       "         [ 1.1960, -0.7706,  1.3190],\n",
       "         [ 0.0715, -2.0978,  1.0670]]], grad_fn=<EmbeddingBackward>)"
      ]
     },
     "execution_count": 3,
     "metadata": {},
     "output_type": "execute_result"
    }
   ],
   "source": [
    "embedding = nn.Embedding(10, 3)\n",
    "# a batch of 2 samples of 4 indices each\n",
    "input = torch.LongTensor([[1,2,4,5],[4,3,2,9]])\n",
    "print(input.size())\n",
    "embedding(input)"
   ]
  },
  {
   "cell_type": "code",
   "execution_count": 30,
   "metadata": {},
   "outputs": [
    {
     "data": {
      "text/plain": [
       "tensor([[1, 4],\n",
       "        [2, 3],\n",
       "        [4, 2],\n",
       "        [5, 9]])"
      ]
     },
     "execution_count": 30,
     "metadata": {},
     "output_type": "execute_result"
    }
   ],
   "source": [
    "input.transpose(1,0)"
   ]
  },
  {
   "cell_type": "code",
   "execution_count": 6,
   "metadata": {},
   "outputs": [
    {
     "data": {
      "text/plain": [
       "torch.Size([2, 4, 3])"
      ]
     },
     "execution_count": 6,
     "metadata": {},
     "output_type": "execute_result"
    }
   ],
   "source": [
    "embedding(input).size() #(batch, sentence_length, embedding_dim)"
   ]
  },
  {
   "cell_type": "code",
   "execution_count": 34,
   "metadata": {},
   "outputs": [
    {
     "data": {
      "text/plain": [
       "tensor([[1, 4],\n",
       "        [2, 3],\n",
       "        [4, 2],\n",
       "        [5, 9]])"
      ]
     },
     "execution_count": 34,
     "metadata": {},
     "output_type": "execute_result"
    }
   ],
   "source": [
    "input.transpose(1,0)"
   ]
  },
  {
   "cell_type": "code",
   "execution_count": 35,
   "metadata": {},
   "outputs": [
    {
     "data": {
      "text/plain": [
       "torch.Size([4, 2])"
      ]
     },
     "execution_count": 35,
     "metadata": {},
     "output_type": "execute_result"
    }
   ],
   "source": [
    "input.transpose(1,0).size()"
   ]
  },
  {
   "cell_type": "code",
   "execution_count": 33,
   "metadata": {},
   "outputs": [
    {
     "data": {
      "text/plain": [
       "tensor([[[ 0.9403, -1.1993, -0.3030],\n",
       "         [ 1.4870,  1.9375, -0.5224]],\n",
       "\n",
       "        [[ 2.3968, -0.5955,  1.1449],\n",
       "         [ 0.4728,  0.4056, -0.1041]],\n",
       "\n",
       "        [[ 1.4870,  1.9375, -0.5224],\n",
       "         [ 2.3968, -0.5955,  1.1449]],\n",
       "\n",
       "        [[ 1.4181,  0.5341,  0.7078],\n",
       "         [-0.9772, -0.3458, -0.0610]]], grad_fn=<EmbeddingBackward>)"
      ]
     },
     "execution_count": 33,
     "metadata": {},
     "output_type": "execute_result"
    }
   ],
   "source": [
    "embedding(input.transpose(1,0))"
   ]
  },
  {
   "cell_type": "code",
   "execution_count": 32,
   "metadata": {},
   "outputs": [
    {
     "data": {
      "text/plain": [
       "torch.Size([4, 2, 3])"
      ]
     },
     "execution_count": 32,
     "metadata": {},
     "output_type": "execute_result"
    }
   ],
   "source": [
    "embedding(input.transpose(1,0)).size()"
   ]
  },
  {
   "cell_type": "code",
   "execution_count": 26,
   "metadata": {},
   "outputs": [
    {
     "name": "stdout",
     "output_type": "stream",
     "text": [
      "torch.Size([1, 4])\n"
     ]
    },
    {
     "data": {
      "text/plain": [
       "tensor([[[-0.1033,  1.3244,  0.2117],\n",
       "         [-0.8510,  1.9430, -1.6529],\n",
       "         [ 0.1461, -0.2864,  0.4483],\n",
       "         [ 0.8832,  1.0036,  0.2195]]], grad_fn=<EmbeddingBackward>)"
      ]
     },
     "execution_count": 26,
     "metadata": {},
     "output_type": "execute_result"
    }
   ],
   "source": [
    "embedding = nn.Embedding(10, 3)\n",
    "# a batch of 2 samples of 4 indices each\n",
    "input = torch.LongTensor([[1,2,4,5]])\n",
    "print(input.size())\n",
    "embedding(input)"
   ]
  },
  {
   "cell_type": "code",
   "execution_count": 27,
   "metadata": {},
   "outputs": [
    {
     "data": {
      "text/plain": [
       "torch.Size([1, 4, 3])"
      ]
     },
     "execution_count": 27,
     "metadata": {},
     "output_type": "execute_result"
    }
   ],
   "source": [
    "embedding(input).size() #(batch, sentence_length, embedding_dim)"
   ]
  },
  {
   "cell_type": "code",
   "execution_count": 41,
   "metadata": {},
   "outputs": [
    {
     "data": {
      "text/plain": [
       "torch.Size([4, 2, 3])"
      ]
     },
     "execution_count": 41,
     "metadata": {},
     "output_type": "execute_result"
    }
   ],
   "source": [
    "embedding(input.transpose(1,0)).size() # seq_length, batch_size, embedding_dim"
   ]
  },
  {
   "cell_type": "code",
   "execution_count": 51,
   "metadata": {},
   "outputs": [
    {
     "data": {
      "text/plain": [
       "PackedSequence(data=tensor([[ 0.9403, -1.1993, -0.3030],\n",
       "        [ 1.4870,  1.9375, -0.5224],\n",
       "        [ 2.3968, -0.5955,  1.1449],\n",
       "        [ 0.4728,  0.4056, -0.1041],\n",
       "        [ 1.4870,  1.9375, -0.5224],\n",
       "        [ 2.3968, -0.5955,  1.1449]], grad_fn=<PackPaddedSequenceBackward>), batch_sizes=tensor([2, 2, 2]), sorted_indices=None, unsorted_indices=None)"
      ]
     },
     "execution_count": 51,
     "metadata": {},
     "output_type": "execute_result"
    }
   ],
   "source": [
    "packed_embeddings = nn.utils.rnn.pack_padded_sequence(embedding(input.transpose(1,0)), [3, 3])\n",
    "packed_embeddings"
   ]
  },
  {
   "cell_type": "code",
   "execution_count": 53,
   "metadata": {},
   "outputs": [
    {
     "data": {
      "text/plain": [
       "(tensor([[[ 0.9403, -1.1993, -0.3030],\n",
       "          [ 1.4870,  1.9375, -0.5224]],\n",
       " \n",
       "         [[ 2.3968, -0.5955,  1.1449],\n",
       "          [ 0.4728,  0.4056, -0.1041]],\n",
       " \n",
       "         [[ 1.4870,  1.9375, -0.5224],\n",
       "          [ 2.3968, -0.5955,  1.1449]],\n",
       " \n",
       "         [[ 0.0000,  0.0000,  0.0000],\n",
       "          [ 0.0000,  0.0000,  0.0000]]], grad_fn=<CopySlices>), tensor([3, 3]))"
      ]
     },
     "execution_count": 53,
     "metadata": {},
     "output_type": "execute_result"
    }
   ],
   "source": [
    "torch.nn.utils.rnn.pad_packed_sequence(packed_embeddings, total_length = 4)"
   ]
  },
  {
   "cell_type": "code",
   "execution_count": 46,
   "metadata": {},
   "outputs": [
    {
     "data": {
      "text/plain": [
       "PackedSequence(data=tensor([[ 0.9403, -1.1993, -0.3030],\n",
       "        [ 1.4870,  1.9375, -0.5224],\n",
       "        [ 2.3968, -0.5955,  1.1449],\n",
       "        [ 0.4728,  0.4056, -0.1041],\n",
       "        [ 1.4870,  1.9375, -0.5224],\n",
       "        [ 2.3968, -0.5955,  1.1449],\n",
       "        [ 1.4181,  0.5341,  0.7078]], grad_fn=<PackPaddedSequenceBackward>), batch_sizes=tensor([2, 2, 2, 1]), sorted_indices=None, unsorted_indices=None)"
      ]
     },
     "execution_count": 46,
     "metadata": {},
     "output_type": "execute_result"
    }
   ],
   "source": [
    "packed_embeddings = nn.utils.rnn.pack_padded_sequence(embedding(input.transpose(1,0)), [4, 3])\n",
    "packed_embeddings"
   ]
  },
  {
   "cell_type": "code",
   "execution_count": 48,
   "metadata": {},
   "outputs": [
    {
     "data": {
      "text/plain": [
       "(tensor([[[ 0.9403, -1.1993, -0.3030],\n",
       "          [ 1.4870,  1.9375, -0.5224]],\n",
       " \n",
       "         [[ 2.3968, -0.5955,  1.1449],\n",
       "          [ 0.4728,  0.4056, -0.1041]],\n",
       " \n",
       "         [[ 1.4870,  1.9375, -0.5224],\n",
       "          [ 2.3968, -0.5955,  1.1449]],\n",
       " \n",
       "         [[ 1.4181,  0.5341,  0.7078],\n",
       "          [ 0.0000,  0.0000,  0.0000]]], grad_fn=<CopySlices>), tensor([4, 3]))"
      ]
     },
     "execution_count": 48,
     "metadata": {},
     "output_type": "execute_result"
    }
   ],
   "source": [
    "torch.nn.utils.rnn.pad_packed_sequence(packed_embeddings)"
   ]
  },
  {
   "cell_type": "code",
   "execution_count": 57,
   "metadata": {},
   "outputs": [
    {
     "data": {
      "text/plain": [
       "PackedSequence(data=tensor([[ 0.9403, -1.1993, -0.3030],\n",
       "        [ 1.4870,  1.9375, -0.5224],\n",
       "        [ 2.3968, -0.5955,  1.1449],\n",
       "        [ 0.4728,  0.4056, -0.1041],\n",
       "        [ 1.4870,  1.9375, -0.5224],\n",
       "        [ 2.3968, -0.5955,  1.1449]], grad_fn=<PackPaddedSequenceBackward>), batch_sizes=tensor([2, 2, 2]), sorted_indices=None, unsorted_indices=None)"
      ]
     },
     "execution_count": 57,
     "metadata": {},
     "output_type": "execute_result"
    }
   ],
   "source": [
    "packed_embeddings = nn.utils.rnn.pack_padded_sequence(embedding(input), [3, 3], batch_first=True)\n",
    "packed_embeddings"
   ]
  },
  {
   "cell_type": "code",
   "execution_count": 60,
   "metadata": {},
   "outputs": [
    {
     "data": {
      "text/plain": [
       "(tensor([[[ 0.9403, -1.1993, -0.3030],\n",
       "          [ 2.3968, -0.5955,  1.1449],\n",
       "          [ 1.4870,  1.9375, -0.5224],\n",
       "          [ 0.0000,  0.0000,  0.0000]],\n",
       " \n",
       "         [[ 1.4870,  1.9375, -0.5224],\n",
       "          [ 0.4728,  0.4056, -0.1041],\n",
       "          [ 2.3968, -0.5955,  1.1449],\n",
       "          [ 0.0000,  0.0000,  0.0000]]], grad_fn=<TransposeBackward0>),\n",
       " tensor([3, 3]))"
      ]
     },
     "execution_count": 60,
     "metadata": {},
     "output_type": "execute_result"
    }
   ],
   "source": [
    "torch.nn.utils.rnn.pad_packed_sequence(packed_embeddings, total_length = 4, batch_first = True)"
   ]
  },
  {
   "cell_type": "code",
   "execution_count": 65,
   "metadata": {},
   "outputs": [
    {
     "data": {
      "text/plain": [
       "tensor([[[ 0.9403, -1.1993, -0.3030],\n",
       "         [ 2.3968, -0.5955,  1.1449],\n",
       "         [ 1.4870,  1.9375, -0.5224],\n",
       "         [ 0.0000,  0.0000,  0.0000]],\n",
       "\n",
       "        [[ 1.4870,  1.9375, -0.5224],\n",
       "         [ 0.4728,  0.4056, -0.1041],\n",
       "         [ 2.3968, -0.5955,  1.1449],\n",
       "         [ 0.0000,  0.0000,  0.0000]]], grad_fn=<TransposeBackward0>)"
      ]
     },
     "execution_count": 65,
     "metadata": {},
     "output_type": "execute_result"
    }
   ],
   "source": [
    "torch.nn.utils.rnn.pad_packed_sequence(packed_embeddings, total_length = 4, batch_first = True)[0]"
   ]
  },
  {
   "cell_type": "code",
   "execution_count": 3,
   "metadata": {},
   "outputs": [
    {
     "name": "stdout",
     "output_type": "stream",
     "text": [
      "Running Sanity Check for Question 1d: Encode\r\n",
      "--------------------------------------------------------------------------------\r\n",
      "enc_hiddens Sanity Checks Passed!\r\n",
      "dec_init_state[0] Sanity Checks Passed!\r\n",
      "dec_init_state[1] Sanity Checks Passed!\r\n",
      "--------------------------------------------------------------------------------\r\n",
      "All Sanity Checks Passed for Question 1d: Encode!\r\n",
      "--------------------------------------------------------------------------------\r\n"
     ]
    }
   ],
   "source": [
    "!python sanity_check.py 1d"
   ]
  },
  {
   "cell_type": "code",
   "execution_count": 74,
   "metadata": {},
   "outputs": [
    {
     "data": {
      "text/plain": [
       "torch.Size([2, 4, 3])"
      ]
     },
     "execution_count": 74,
     "metadata": {},
     "output_type": "execute_result"
    }
   ],
   "source": [
    "embedding(input).size()"
   ]
  },
  {
   "cell_type": "code",
   "execution_count": 4,
   "metadata": {},
   "outputs": [
    {
     "data": {
      "text/plain": [
       "torch.Size([2, 4, 3])"
      ]
     },
     "execution_count": 4,
     "metadata": {},
     "output_type": "execute_result"
    }
   ],
   "source": [
    "test = embedding(input)\n",
    "test.size()"
   ]
  },
  {
   "cell_type": "code",
   "execution_count": 8,
   "metadata": {},
   "outputs": [
    {
     "data": {
      "text/plain": [
       "torch.Size([4, 6])"
      ]
     },
     "execution_count": 8,
     "metadata": {},
     "output_type": "execute_result"
    }
   ],
   "source": [
    "#torch.cat((test_concat[0, :, :], test_concat[1, :, :]), dim=1).size()"
   ]
  },
  {
   "cell_type": "code",
   "execution_count": 43,
   "metadata": {},
   "outputs": [
    {
     "data": {
      "text/plain": [
       "tensor([[[-0.0056, -0.4001,  1.1009],\n",
       "         [-0.1381,  1.6090, -0.2963],\n",
       "         [-0.6630,  0.5409, -1.5764],\n",
       "         [-0.4491, -1.6503, -1.0946]],\n",
       "\n",
       "        [[-0.6630,  0.5409, -1.5764],\n",
       "         [-0.4842,  2.0309,  0.4387],\n",
       "         [-0.1381,  1.6090, -0.2963],\n",
       "         [ 0.6110, -0.8862,  1.4394]]], grad_fn=<EmbeddingBackward>)"
      ]
     },
     "execution_count": 43,
     "metadata": {},
     "output_type": "execute_result"
    }
   ],
   "source": [
    "test"
   ]
  },
  {
   "cell_type": "code",
   "execution_count": 44,
   "metadata": {},
   "outputs": [
    {
     "data": {
      "text/plain": [
       "torch.Size([2, 4, 3])"
      ]
     },
     "execution_count": 44,
     "metadata": {},
     "output_type": "execute_result"
    }
   ],
   "source": [
    "test.size()"
   ]
  },
  {
   "cell_type": "code",
   "execution_count": 45,
   "metadata": {},
   "outputs": [
    {
     "data": {
      "text/plain": [
       "(tensor([[[-0.0056, -0.4001,  1.1009],\n",
       "          [-0.1381,  1.6090, -0.2963],\n",
       "          [-0.6630,  0.5409, -1.5764],\n",
       "          [-0.4491, -1.6503, -1.0946]]], grad_fn=<SplitBackward>),\n",
       " tensor([[[-0.6630,  0.5409, -1.5764],\n",
       "          [-0.4842,  2.0309,  0.4387],\n",
       "          [-0.1381,  1.6090, -0.2963],\n",
       "          [ 0.6110, -0.8862,  1.4394]]], grad_fn=<SplitBackward>))"
      ]
     },
     "execution_count": 45,
     "metadata": {},
     "output_type": "execute_result"
    }
   ],
   "source": [
    "torch.split(test, 1, dim=0)"
   ]
  },
  {
   "cell_type": "code",
   "execution_count": 47,
   "metadata": {},
   "outputs": [
    {
     "data": {
      "text/plain": [
       "tensor([[[-0.0056, -0.4001,  1.1009],\n",
       "         [-0.1381,  1.6090, -0.2963],\n",
       "         [-0.6630,  0.5409, -1.5764],\n",
       "         [-0.4491, -1.6503, -1.0946]]], grad_fn=<SplitBackward>)"
      ]
     },
     "execution_count": 47,
     "metadata": {},
     "output_type": "execute_result"
    }
   ],
   "source": [
    "torch.split(test, 1, dim=0)[0]"
   ]
  },
  {
   "cell_type": "code",
   "execution_count": 46,
   "metadata": {},
   "outputs": [
    {
     "data": {
      "text/plain": [
       "torch.Size([1, 4, 3])"
      ]
     },
     "execution_count": 46,
     "metadata": {},
     "output_type": "execute_result"
    }
   ],
   "source": [
    "torch.split(test, 1, dim=0)[0].size()"
   ]
  },
  {
   "cell_type": "code",
   "execution_count": 48,
   "metadata": {},
   "outputs": [
    {
     "data": {
      "text/plain": [
       "tensor([[-0.0056, -0.4001,  1.1009],\n",
       "        [-0.1381,  1.6090, -0.2963],\n",
       "        [-0.6630,  0.5409, -1.5764],\n",
       "        [-0.4491, -1.6503, -1.0946]], grad_fn=<SqueezeBackward0>)"
      ]
     },
     "execution_count": 48,
     "metadata": {},
     "output_type": "execute_result"
    }
   ],
   "source": [
    "torch.split(test, 1, dim=0)[0].squeeze()"
   ]
  },
  {
   "cell_type": "code",
   "execution_count": 49,
   "metadata": {},
   "outputs": [
    {
     "data": {
      "text/plain": [
       "torch.Size([4, 3])"
      ]
     },
     "execution_count": 49,
     "metadata": {},
     "output_type": "execute_result"
    }
   ],
   "source": [
    "torch.split(test, 1, dim=0)[0].squeeze().size()"
   ]
  },
  {
   "cell_type": "code",
   "execution_count": 52,
   "metadata": {},
   "outputs": [
    {
     "name": "stdout",
     "output_type": "stream",
     "text": [
      "torch.Size([4, 3])\n",
      "torch.Size([4, 3])\n"
     ]
    }
   ],
   "source": [
    "time_steps = torch.split(test, 1, dim=0)\n",
    "for t in time_steps:\n",
    "    print(t.squeeze().size())"
   ]
  },
  {
   "cell_type": "code",
   "execution_count": 54,
   "metadata": {},
   "outputs": [
    {
     "data": {
      "text/plain": [
       "torch.Size([2, 4, 3])"
      ]
     },
     "execution_count": 54,
     "metadata": {},
     "output_type": "execute_result"
    }
   ],
   "source": [
    "test.size()"
   ]
  },
  {
   "cell_type": "code",
   "execution_count": 75,
   "metadata": {},
   "outputs": [
    {
     "data": {
      "text/plain": [
       "(torch.Size([4, 3]), torch.Size([4, 3]))"
      ]
     },
     "execution_count": 75,
     "metadata": {},
     "output_type": "execute_result"
    }
   ],
   "source": [
    "test[0].size(), test[1].size()"
   ]
  },
  {
   "cell_type": "code",
   "execution_count": 72,
   "metadata": {},
   "outputs": [
    {
     "data": {
      "text/plain": [
       "(torch.Size([4, 3]), torch.Size([4, 3]))"
      ]
     },
     "execution_count": 72,
     "metadata": {},
     "output_type": "execute_result"
    }
   ],
   "source": [
    "test[0, :, :].size(), test[1, :, :].size()"
   ]
  },
  {
   "cell_type": "code",
   "execution_count": 77,
   "metadata": {},
   "outputs": [
    {
     "data": {
      "text/plain": [
       "torch.Size([8, 3])"
      ]
     },
     "execution_count": 77,
     "metadata": {},
     "output_type": "execute_result"
    }
   ],
   "source": [
    "torch.cat((test[0, :, :], test[1, :, :])).size()"
   ]
  },
  {
   "cell_type": "code",
   "execution_count": 65,
   "metadata": {},
   "outputs": [
    {
     "data": {
      "text/plain": [
       "torch.Size([4, 6])"
      ]
     },
     "execution_count": 65,
     "metadata": {},
     "output_type": "execute_result"
    }
   ],
   "source": [
    "torch.cat((test[0, :, :], test[1, :, :]), dim=1).size()"
   ]
  },
  {
   "cell_type": "code",
   "execution_count": 71,
   "metadata": {},
   "outputs": [
    {
     "data": {
      "text/plain": [
       "torch.Size([8, 3])"
      ]
     },
     "execution_count": 71,
     "metadata": {},
     "output_type": "execute_result"
    }
   ],
   "source": [
    "torch.cat((test[0,:,:], test[1, :, :]), dim=0).size()"
   ]
  },
  {
   "cell_type": "code",
   "execution_count": 69,
   "metadata": {},
   "outputs": [
    {
     "data": {
      "text/plain": [
       "torch.Size([2, 4, 3])"
      ]
     },
     "execution_count": 69,
     "metadata": {},
     "output_type": "execute_result"
    }
   ],
   "source": [
    "test.size()"
   ]
  },
  {
   "cell_type": "code",
   "execution_count": null,
   "metadata": {},
   "outputs": [],
   "source": [
    "test"
   ]
  },
  {
   "cell_type": "code",
   "execution_count": 67,
   "metadata": {},
   "outputs": [
    {
     "data": {
      "text/plain": [
       "[tensor([[-0.0056, -0.4001,  1.1009],\n",
       "         [-0.1381,  1.6090, -0.2963],\n",
       "         [-0.6630,  0.5409, -1.5764],\n",
       "         [-0.4491, -1.6503, -1.0946]], grad_fn=<SelectBackward>),\n",
       " tensor([[-0.6630,  0.5409, -1.5764],\n",
       "         [-0.4842,  2.0309,  0.4387],\n",
       "         [-0.1381,  1.6090, -0.2963],\n",
       "         [ 0.6110, -0.8862,  1.4394]], grad_fn=<SelectBackward>)]"
      ]
     },
     "execution_count": 67,
     "metadata": {},
     "output_type": "execute_result"
    }
   ],
   "source": [
    "l = []\n",
    "for t in test:\n",
    "    l.append(t)\n",
    "l    "
   ]
  },
  {
   "cell_type": "code",
   "execution_count": 70,
   "metadata": {},
   "outputs": [
    {
     "data": {
      "text/plain": [
       "torch.Size([2, 4, 3])"
      ]
     },
     "execution_count": 70,
     "metadata": {},
     "output_type": "execute_result"
    }
   ],
   "source": [
    "torch.stack(l).size()"
   ]
  },
  {
   "cell_type": "code",
   "execution_count": 79,
   "metadata": {},
   "outputs": [
    {
     "name": "stdout",
     "output_type": "stream",
     "text": [
      "--------------------------------------------------------------------------------\n",
      "Running Sanity Check for Question 1e: Decode\n",
      "--------------------------------------------------------------------------------\n",
      "combined_outputs Sanity Checks Passed!\n",
      "--------------------------------------------------------------------------------\n",
      "All Sanity Checks Passed for Question 1e: Decode!\n",
      "--------------------------------------------------------------------------------\n"
     ]
    }
   ],
   "source": [
    "!python sanity_check.py 1e"
   ]
  },
  {
   "cell_type": "code",
   "execution_count": 6,
   "metadata": {},
   "outputs": [
    {
     "data": {
      "text/plain": [
       "torch.Size([2, 4, 3])"
      ]
     },
     "execution_count": 6,
     "metadata": {},
     "output_type": "execute_result"
    }
   ],
   "source": [
    "test.size()"
   ]
  },
  {
   "cell_type": "code",
   "execution_count": 31,
   "metadata": {},
   "outputs": [
    {
     "data": {
      "text/plain": [
       "torch.Size([2, 1, 4, 3])"
      ]
     },
     "execution_count": 31,
     "metadata": {},
     "output_type": "execute_result"
    }
   ],
   "source": [
    "test.unsqueeze(dim=1).size()"
   ]
  },
  {
   "cell_type": "code",
   "execution_count": 16,
   "metadata": {},
   "outputs": [
    {
     "data": {
      "text/plain": [
       "torch.Size([4, 3, 1])"
      ]
     },
     "execution_count": 16,
     "metadata": {},
     "output_type": "execute_result"
    }
   ],
   "source": [
    "test[0].unsqueeze(dim=-1).size()"
   ]
  },
  {
   "cell_type": "code",
   "execution_count": 17,
   "metadata": {},
   "outputs": [
    {
     "data": {
      "text/plain": [
       "torch.Size([2, 4, 1])"
      ]
     },
     "execution_count": 17,
     "metadata": {},
     "output_type": "execute_result"
    }
   ],
   "source": [
    "test_broadcast = test[:,:, 0].unsqueeze(dim=-1)\n",
    "test_broadcast.size()"
   ]
  },
  {
   "cell_type": "code",
   "execution_count": 18,
   "metadata": {},
   "outputs": [
    {
     "data": {
      "text/plain": [
       "torch.Size([2, 4, 3])"
      ]
     },
     "execution_count": 18,
     "metadata": {},
     "output_type": "execute_result"
    }
   ],
   "source": [
    "test.size()"
   ]
  },
  {
   "cell_type": "code",
   "execution_count": null,
   "metadata": {},
   "outputs": [],
   "source": [
    "torch.bmm()"
   ]
  },
  {
   "cell_type": "code",
   "execution_count": null,
   "metadata": {},
   "outputs": [],
   "source": [
    "torch.nn.functional.tanh"
   ]
  },
  {
   "cell_type": "code",
   "execution_count": 46,
   "metadata": {},
   "outputs": [
    {
     "name": "stdout",
     "output_type": "stream",
     "text": [
      "--------------------------------------------------------------------------------\r\n",
      "Running Sanity Check for Question 1f: Step\r\n",
      "--------------------------------------------------------------------------------\r\n",
      "dec_state[0] Sanity Checks Passed!\r\n",
      "dec_state[1] Sanity Checks Passed!\r\n",
      "combined_output  Sanity Checks Passed!\r\n",
      "e_t Sanity Checks Passed!\r\n",
      "--------------------------------------------------------------------------------\r\n",
      "All Sanity Checks Passed for Question 1f: Step!\r\n",
      "--------------------------------------------------------------------------------\r\n"
     ]
    }
   ],
   "source": [
    "!python sanity_check.py 1f"
   ]
  }
 ],
 "metadata": {
  "kernelspec": {
   "display_name": "Python 3",
   "language": "python",
   "name": "python3"
  },
  "language_info": {
   "codemirror_mode": {
    "name": "ipython",
    "version": 3
   },
   "file_extension": ".py",
   "mimetype": "text/x-python",
   "name": "python",
   "nbconvert_exporter": "python",
   "pygments_lexer": "ipython3",
   "version": "3.7.2"
  }
 },
 "nbformat": 4,
 "nbformat_minor": 2
}

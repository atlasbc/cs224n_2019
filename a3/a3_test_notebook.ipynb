{
 "cells": [
  {
   "cell_type": "code",
   "execution_count": 1,
   "metadata": {
    "scrolled": true
   },
   "outputs": [
    {
     "name": "stdout",
     "output_type": "stream",
     "text": [
      "SHIFT test passed!\r\n",
      "LEFT-ARC test passed!\r\n",
      "RIGHT-ARC test passed!\r\n",
      "parse test passed!\r\n"
     ]
    }
   ],
   "source": [
    "!/home/jupyter/cs224n_2019/a3/parser_transitions.py part_c"
   ]
  },
  {
   "cell_type": "code",
   "execution_count": 23,
   "metadata": {},
   "outputs": [
    {
     "name": "stdout",
     "output_type": "stream",
     "text": [
      "minibatch_parse test passed!\r\n"
     ]
    }
   ],
   "source": [
    "!/home/jupyter/cs224n_2019/a3/parser_transitions.py part_d"
   ]
  },
  {
   "cell_type": "markdown",
   "metadata": {},
   "source": [
    "Run model with debug"
   ]
  },
  {
   "cell_type": "code",
   "execution_count": 27,
   "metadata": {},
   "outputs": [
    {
     "name": "stdout",
     "output_type": "stream",
     "text": [
      "================================================================================\n",
      "INITIALIZING\n",
      "================================================================================\n",
      "Loading data...\n",
      "took 2.02 seconds\n",
      "Building parser...\n",
      "took 0.03 seconds\n",
      "Loading pretrained embeddings...\n",
      "took 2.15 seconds\n",
      "Vectorizing data...\n",
      "took 0.06 seconds\n",
      "Preprocessing training data...\n",
      "took 1.27 seconds\n",
      "took 0.01 seconds\n",
      "\n",
      "================================================================================\n",
      "TRAINING\n",
      "================================================================================\n",
      "Epoch 1 out of 10\n",
      "100%|███████████████████████████████████████████| 48/48 [00:10<00:00,  4.69it/s]\n",
      "Average Train Loss: 0.666334230452776\n",
      "Evaluating on dev set\n",
      "125250it [00:00, 12098953.85it/s]                                               \n",
      "- dev UAS: 52.33\n",
      "New best dev UAS! Saving model.\n",
      "\n",
      "Epoch 2 out of 10\n",
      "100%|███████████████████████████████████████████| 48/48 [00:08<00:00,  5.76it/s]\n",
      "Average Train Loss: 0.3565792677303155\n",
      "Evaluating on dev set\n",
      "125250it [00:00, 12427530.66it/s]                                               \n",
      "- dev UAS: 59.22\n",
      "New best dev UAS! Saving model.\n",
      "\n",
      "Epoch 3 out of 10\n",
      "100%|███████████████████████████████████████████| 48/48 [00:08<00:00,  5.67it/s]\n",
      "Average Train Loss: 0.2936822983125846\n",
      "Evaluating on dev set\n",
      "125250it [00:00, 12616455.15it/s]                                               \n",
      "- dev UAS: 62.09\n",
      "New best dev UAS! Saving model.\n",
      "\n",
      "Epoch 4 out of 10\n",
      "100%|███████████████████████████████████████████| 48/48 [00:08<00:00,  5.72it/s]\n",
      "Average Train Loss: 0.25716436343888444\n",
      "Evaluating on dev set\n",
      "125250it [00:00, 10203880.35it/s]                                               \n",
      "- dev UAS: 63.86\n",
      "New best dev UAS! Saving model.\n",
      "\n",
      "Epoch 5 out of 10\n",
      "100%|███████████████████████████████████████████| 48/48 [00:08<00:00,  5.87it/s]\n",
      "Average Train Loss: 0.2293897926186522\n",
      "Evaluating on dev set\n",
      "125250it [00:00, 12181152.78it/s]                                               \n",
      "- dev UAS: 65.81\n",
      "New best dev UAS! Saving model.\n",
      "\n",
      "Epoch 6 out of 10\n",
      "100%|███████████████████████████████████████████| 48/48 [00:08<00:00,  5.84it/s]\n",
      "Average Train Loss: 0.2059069893633326\n",
      "Evaluating on dev set\n",
      "125250it [00:00, 12001932.24it/s]                                               \n",
      "- dev UAS: 67.46\n",
      "New best dev UAS! Saving model.\n",
      "\n",
      "Epoch 7 out of 10\n",
      "100%|███████████████████████████████████████████| 48/48 [00:08<00:00,  5.88it/s]\n",
      "Average Train Loss: 0.1902611649905642\n",
      "Evaluating on dev set\n",
      "125250it [00:00, 10071829.90it/s]                                               \n",
      "- dev UAS: 67.26\n",
      "\n",
      "Epoch 8 out of 10\n",
      "100%|███████████████████████████████████████████| 48/48 [00:08<00:00,  5.96it/s]\n",
      "Average Train Loss: 0.17700871732085943\n",
      "Evaluating on dev set\n",
      "125250it [00:00, 12676429.13it/s]                                               \n",
      "- dev UAS: 69.24\n",
      "New best dev UAS! Saving model.\n",
      "\n",
      "Epoch 9 out of 10\n",
      "100%|███████████████████████████████████████████| 48/48 [00:08<00:00,  5.71it/s]\n",
      "Average Train Loss: 0.16166419194390377\n",
      "Evaluating on dev set\n",
      "125250it [00:00, 12181717.70it/s]                                               \n",
      "- dev UAS: 70.72\n",
      "New best dev UAS! Saving model.\n",
      "\n",
      "Epoch 10 out of 10\n",
      "100%|███████████████████████████████████████████| 48/48 [00:08<00:00,  5.85it/s]\n",
      "Average Train Loss: 0.15197956888005137\n",
      "Evaluating on dev set\n",
      "125250it [00:00, 11236665.30it/s]                                               \n",
      "- dev UAS: 71.47\n",
      "New best dev UAS! Saving model.\n",
      "\n"
     ]
    }
   ],
   "source": [
    "!/home/jupyter/cs224n_2019/a3/run.py"
   ]
  },
  {
   "cell_type": "markdown",
   "metadata": {},
   "source": [
    "Run model without debug"
   ]
  },
  {
   "cell_type": "code",
   "execution_count": 28,
   "metadata": {},
   "outputs": [
    {
     "name": "stdout",
     "output_type": "stream",
     "text": [
      "================================================================================\n",
      "INITIALIZING\n",
      "================================================================================\n",
      "Loading data...\n",
      "took 1.93 seconds\n",
      "Building parser...\n",
      "took 1.19 seconds\n",
      "Loading pretrained embeddings...\n",
      "took 2.36 seconds\n",
      "Vectorizing data...\n",
      "took 1.95 seconds\n",
      "Preprocessing training data...\n",
      "took 44.06 seconds\n",
      "took 0.04 seconds\n",
      "\n",
      "================================================================================\n",
      "TRAINING\n",
      "================================================================================\n",
      "Epoch 1 out of 10\n",
      "100%|███████████████████████████████████████| 1848/1848 [06:01<00:00,  5.14it/s]\n",
      "Average Train Loss: 0.17812604507536212\n",
      "Evaluating on dev set\n",
      "1445850it [00:00, 40289494.60it/s]                                              \n",
      "- dev UAS: 83.66\n",
      "New best dev UAS! Saving model.\n",
      "\n",
      "Epoch 2 out of 10\n",
      "100%|███████████████████████████████████████| 1848/1848 [06:12<00:00,  4.99it/s]\n",
      "Average Train Loss: 0.11396799958613399\n",
      "Evaluating on dev set\n",
      "1445850it [00:00, 41108836.41it/s]                                              \n",
      "- dev UAS: 86.28\n",
      "New best dev UAS! Saving model.\n",
      "\n",
      "Epoch 3 out of 10\n",
      "100%|███████████████████████████████████████| 1848/1848 [06:30<00:00,  4.76it/s]\n",
      "Average Train Loss: 0.09971738951401664\n",
      "Evaluating on dev set\n",
      "1445850it [00:00, 40766716.45it/s]                                              \n",
      "- dev UAS: 86.88\n",
      "New best dev UAS! Saving model.\n",
      "\n",
      "Epoch 4 out of 10\n",
      "100%|███████████████████████████████████████| 1848/1848 [06:34<00:00,  4.92it/s]\n",
      "Average Train Loss: 0.09116306597995874\n",
      "Evaluating on dev set\n",
      "1445850it [00:00, 39772908.42it/s]                                              \n",
      "- dev UAS: 87.57\n",
      "New best dev UAS! Saving model.\n",
      "\n",
      "Epoch 5 out of 10\n",
      "100%|███████████████████████████████████████| 1848/1848 [06:29<00:00,  4.82it/s]\n",
      "Average Train Loss: 0.0850548503287459\n",
      "Evaluating on dev set\n",
      "1445850it [00:00, 39747622.01it/s]                                              \n",
      "- dev UAS: 87.77\n",
      "New best dev UAS! Saving model.\n",
      "\n",
      "Epoch 6 out of 10\n",
      "100%|███████████████████████████████████████| 1848/1848 [06:29<00:00,  4.77it/s]\n",
      "Average Train Loss: 0.08003994407640262\n",
      "Evaluating on dev set\n",
      "1445850it [00:00, 37795082.91it/s]                                              \n",
      "- dev UAS: 88.21\n",
      "New best dev UAS! Saving model.\n",
      "\n",
      "Epoch 7 out of 10\n",
      "100%|███████████████████████████████████████| 1848/1848 [06:34<00:00,  4.70it/s]\n",
      "Average Train Loss: 0.0757753002735508\n",
      "Evaluating on dev set\n",
      "1445850it [00:00, 37110704.47it/s]                                              \n",
      "- dev UAS: 88.44\n",
      "New best dev UAS! Saving model.\n",
      "\n",
      "Epoch 8 out of 10\n",
      "100%|███████████████████████████████████████| 1848/1848 [06:35<00:00,  4.74it/s]\n",
      "Average Train Loss: 0.07219323940026812\n",
      "Evaluating on dev set\n",
      "1445850it [00:00, 39886178.32it/s]                                              \n",
      "- dev UAS: 88.58\n",
      "New best dev UAS! Saving model.\n",
      "\n",
      "Epoch 9 out of 10\n",
      "100%|███████████████████████████████████████| 1848/1848 [06:31<00:00,  4.88it/s]\n",
      "Average Train Loss: 0.06896915596212337\n",
      "Evaluating on dev set\n",
      "1445850it [00:00, 40083642.48it/s]                                              \n",
      "- dev UAS: 88.58\n",
      "\n",
      "Epoch 10 out of 10\n",
      "100%|███████████████████████████████████████| 1848/1848 [06:35<00:00,  4.74it/s]\n",
      "Average Train Loss: 0.06609085379813463\n",
      "Evaluating on dev set\n",
      "1445850it [00:00, 40252322.73it/s]                                              \n",
      "- dev UAS: 88.66\n",
      "New best dev UAS! Saving model.\n",
      "\n",
      "================================================================================\n",
      "TESTING\n",
      "================================================================================\n",
      "Restoring the best model weights found on the dev set\n",
      "Final evaluation on test set\n",
      "2919736it [00:00, 57120083.88it/s]                                              \n",
      "- test UAS: 89.01\n",
      "Done!\n"
     ]
    }
   ],
   "source": [
    "!/home/jupyter/cs224n_2019/a3/run.py"
   ]
  }
 ],
 "metadata": {
  "kernelspec": {
   "display_name": "Python 3",
   "language": "python",
   "name": "python3"
  },
  "language_info": {
   "codemirror_mode": {
    "name": "ipython",
    "version": 3
   },
   "file_extension": ".py",
   "mimetype": "text/x-python",
   "name": "python",
   "nbconvert_exporter": "python",
   "pygments_lexer": "ipython3",
   "version": "3.7.2"
  }
 },
 "nbformat": 4,
 "nbformat_minor": 2
}

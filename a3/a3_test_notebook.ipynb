{
 "cells": [
  {
   "cell_type": "code",
   "execution_count": 18,
   "metadata": {
    "scrolled": true
   },
   "outputs": [
    {
     "name": "stdout",
     "output_type": "stream",
     "text": [
      "SHIFT test passed!\r\n",
      "LEFT-ARC test passed!\r\n",
      "RIGHT-ARC test passed!\r\n",
      "parse test passed!\r\n"
     ]
    }
   ],
   "source": [
    "!/home/jupyter/cs224n_2019/a3/parser_transitions.py part_c"
   ]
  },
  {
   "cell_type": "code",
   "execution_count": 25,
   "metadata": {},
   "outputs": [
    {
     "name": "stdout",
     "output_type": "stream",
     "text": [
      "minibatch_parse test passed!\r\n"
     ]
    }
   ],
   "source": [
    "!/home/jupyter/cs224n_2019/a3/parser_transitions.py part_d"
   ]
  },
  {
   "cell_type": "code",
   "execution_count": 10,
   "metadata": {},
   "outputs": [
    {
     "name": "stdout",
     "output_type": "stream",
     "text": [
      "================================================================================\n",
      "INITIALIZING\n",
      "================================================================================\n",
      "Loading data...\n",
      "took 2.01 seconds\n",
      "Building parser...\n",
      "took 0.03 seconds\n",
      "Loading pretrained embeddings...\n",
      "took 2.20 seconds\n",
      "Vectorizing data...\n",
      "took 0.07 seconds\n",
      "Preprocessing training data...\n",
      "took 1.34 seconds\n",
      "took 0.01 seconds\n",
      "\n",
      "================================================================================\n",
      "TRAINING\n",
      "================================================================================\n",
      "Epoch 1 out of 10\n",
      "100%|███████████████████████████████████████████| 48/48 [00:11<00:00,  4.23it/s]\n",
      "Average Train Loss: 0.6435727241138617\n",
      "Evaluating on dev set\n",
      "Traceback (most recent call last):\n",
      "  File \"/home/jupyter/cs224n_2019/a3/run.py\", line 144, in <module>\n",
      "    train(parser, train_data, dev_data, output_path, batch_size=1024, n_epochs=10, lr=0.0005)\n",
      "  File \"/home/jupyter/cs224n_2019/a3/run.py\", line 54, in train\n",
      "    dev_UAS = train_for_epoch(parser, train_data, dev_data, optimizer, loss_func, batch_size)\n",
      "  File \"/home/jupyter/cs224n_2019/a3/run.py\", line 113, in train_for_epoch\n",
      "    dev_UAS, _ = parser.parse(dev_data)\n",
      "  File \"/home/jupyter/cs224n_2019/a3/utils/parser_utils.py\", line 249, in parse\n",
      "    dependencies = minibatch_parse(sentences, model, eval_batch_size)\n",
      "  File \"/home/jupyter/cs224n_2019/a3/parser_transitions.py\", line 117, in minibatch_parse\n",
      "    parse.parse_step(batch_prediction[idx])            \n",
      "  File \"/home/jupyter/cs224n_2019/a3/parser_transitions.py\", line 60, in parse_step\n",
      "    self.dependencies.append(((self.stack[-2], self.stack[-1])))\n",
      "IndexError: list index out of range\n"
     ]
    }
   ],
   "source": [
    "!/home/jupyter/cs224n_2019/a3/run.py"
   ]
  },
  {
   "cell_type": "code",
   "execution_count": 26,
   "metadata": {},
   "outputs": [],
   "source": [
    "l = [1,2,3,4]"
   ]
  },
  {
   "cell_type": "code",
   "execution_count": 28,
   "metadata": {},
   "outputs": [
    {
     "data": {
      "text/plain": [
       "[1, 2, 3, 4]"
      ]
     },
     "execution_count": 28,
     "metadata": {},
     "output_type": "execute_result"
    }
   ],
   "source": [
    "l[:10]"
   ]
  }
 ],
 "metadata": {
  "kernelspec": {
   "display_name": "Python 3",
   "language": "python",
   "name": "python3"
  },
  "language_info": {
   "codemirror_mode": {
    "name": "ipython",
    "version": 3
   },
   "file_extension": ".py",
   "mimetype": "text/x-python",
   "name": "python",
   "nbconvert_exporter": "python",
   "pygments_lexer": "ipython3",
   "version": "3.7.2"
  }
 },
 "nbformat": 4,
 "nbformat_minor": 2
}
